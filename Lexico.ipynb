{
  "nbformat": 4,
  "nbformat_minor": 0,
  "metadata": {
    "colab": {
      "name": "Lexico.ipynb",
      "provenance": [],
      "collapsed_sections": [
        "sOwtiPdOC3mm",
        "nuVejW89C-QD"
      ],
      "include_colab_link": true
    },
    "kernelspec": {
      "name": "python3",
      "display_name": "Python 3"
    }
  },
  "cells": [
    {
      "cell_type": "markdown",
      "metadata": {
        "id": "view-in-github",
        "colab_type": "text"
      },
      "source": [
        "<a href=\"https://colab.research.google.com/github/rodrigozago/compiladores/blob/master/Lexico.ipynb\" target=\"_parent\"><img src=\"https://colab.research.google.com/assets/colab-badge.svg\" alt=\"Open In Colab\"/></a>"
      ]
    },
    {
      "cell_type": "markdown",
      "metadata": {
        "id": "hh9K9qYJ9t23"
      },
      "source": [
        ""
      ]
    },
    {
      "cell_type": "markdown",
      "metadata": {
        "id": "y2vT3_Y0DbZR"
      },
      "source": [
        "Analisador léxico\n",
        "=================="
      ]
    },
    {
      "cell_type": "markdown",
      "metadata": {
        "id": "sOwtiPdOC3mm"
      },
      "source": [
        "Tabela de simbolos\n",
        "--------------------"
      ]
    },
    {
      "cell_type": "code",
      "metadata": {
        "id": "stf4cugLAO69"
      },
      "source": [
        "symTable = {}"
      ],
      "execution_count": null,
      "outputs": []
    },
    {
      "cell_type": "markdown",
      "metadata": {
        "id": "nuVejW89C-QD"
      },
      "source": [
        "Definição da classe Token\n",
        "--------------------------"
      ]
    },
    {
      "cell_type": "code",
      "metadata": {
        "id": "9532H6Ww13I-"
      },
      "source": [
        "class Token:\n",
        "  def __init__(self, lexema, token, tipo):\n",
        "    self.lexema = lexema\n",
        "    self.token = token\n",
        "    self.tipo = tipo\n",
        "\n",
        "  def __str__(self):\n",
        "    return \"Lexema: {} Token: {} Tipo: {}\".format(self.lexema, self.token, self.tipo)"
      ],
      "execution_count": null,
      "outputs": []
    },
    {
      "cell_type": "markdown",
      "metadata": {
        "id": "hygyYiRGDLif"
      },
      "source": [
        "Adicionando palavras chave da linguagem na tabela de simbolos\n",
        "---------------------------------------"
      ]
    },
    {
      "cell_type": "code",
      "metadata": {
        "id": "aJtF1gCt2UcV"
      },
      "source": [
        "symTable['inicio'] = Token('inicio', 'inicio', '-')\n",
        "symTable['varinicio'] = Token('varinicio', 'varinicio', '-')\n",
        "symTable['varfim'] = Token('varfim', 'varfim', '-')\n",
        "symTable['escreva'] = Token('escreva', 'escreva', '-')\n",
        "symTable['leia'] = Token('leia', 'leia', '-')\n",
        "symTable['se'] = Token('se', 'se', '-')\n",
        "symTable['entao'] = Token('entao', 'entao', '-')\n",
        "symTable['fimse'] = Token('fimse', 'fimse', '-')\n",
        "symTable['fim'] = Token('fim', 'fim', '-')\n",
        "symTable['inteiro'] = Token('inteiro', 'inteiro', '-')\n",
        "symTable['lit'] = Token('lit', 'lit', '-')\n",
        "symTable['real'] = Token('real', 'real', '-')"
      ],
      "execution_count": null,
      "outputs": []
    },
    {
      "cell_type": "code",
      "metadata": {
        "id": "3vi1Dc_uB72u",
        "outputId": "6f8c754c-d0d1-468a-9dd6-3a45fe445268",
        "colab": {
          "base_uri": "https://localhost:8080/",
          "height": 35
        }
      },
      "source": [
        "print(symTable['varinicio'])"
      ],
      "execution_count": null,
      "outputs": [
        {
          "output_type": "stream",
          "text": [
            "Lexema: varinicio Token: varinicio Tipo: -\n"
          ],
          "name": "stdout"
        }
      ]
    },
    {
      "cell_type": "markdown",
      "metadata": {
        "id": "_u6FDOygDjs9"
      },
      "source": [
        "Definição do autômato finito\n",
        "-----------------------------"
      ]
    },
    {
      "cell_type": "code",
      "metadata": {
        "id": "4bZOZet-Dqv6",
        "outputId": "a906c198-6461-49d7-cf45-ea3f77f14eae",
        "colab": {
          "base_uri": "https://localhost:8080/",
          "height": 35
        }
      },
      "source": [
        "class DFA:\n",
        "    current_state = None;\n",
        "    def __init__(self, states, alphabet, transition_function, start_state, accept_states):\n",
        "        self.states = states;\n",
        "        self.alphabet = alphabet;\n",
        "        self.transition_function = transition_function;\n",
        "        self.start_state = start_state;\n",
        "        self.accept_states = accept_states;\n",
        "        self.current_state = start_state;\n",
        "        return;\n",
        "    \n",
        "    def transition_to_state_with_input(self, input_value):\n",
        "        if ((self.current_state, input_value) not in self.transition_function.keys()):\n",
        "            self.current_state = None;\n",
        "            return;\n",
        "        self.current_state = self.transition_function[(self.current_state, input_value)];\n",
        "        return;\n",
        "    \n",
        "    def in_accept_state(self):\n",
        "        return self.current_state in accept_states;\n",
        "    \n",
        "    def go_to_initial_state(self):\n",
        "        self.current_state = self.start_state;\n",
        "        return;\n",
        "    \n",
        "    def run_with_input_list(self, input_list):\n",
        "        self.go_to_initial_state();\n",
        "        for inp in input_list:\n",
        "            self.transition_to_state_with_input(inp);\n",
        "            continue;\n",
        "        return self.in_accept_state();\n",
        "    pass;\n",
        "\n",
        "\n",
        "\n",
        "states = {0, 1, 2, 3};\n",
        "alphabet = {'a', 'b', 'c', 'd'};\n",
        "\n",
        "tf = dict();\n",
        "tf[(0, 'a')] = 1;\n",
        "tf[(0, 'b')] = 2;\n",
        "tf[(0, 'c')] = 3;\n",
        "tf[(0, 'd')] = 0;\n",
        "tf[(1, 'a')] = 1;\n",
        "tf[(1, 'b')] = 2;\n",
        "tf[(1, 'c')] = 3;\n",
        "tf[(1, 'd')] = 0;\n",
        "tf[(2, 'a')] = 1;\n",
        "tf[(2, 'b')] = 2;\n",
        "tf[(2, 'c')] = 3;\n",
        "tf[(2, 'd')] = 0;\n",
        "tf[(3, 'a')] = 1;\n",
        "tf[(3, 'b')] = 2;\n",
        "tf[(3, 'c')] = 3;\n",
        "tf[(3, 'd')] = 0;\n",
        "start_state = 0;\n",
        "accept_states = {2, 3};\n",
        "\n",
        "d = DFA(states, alphabet, tf, start_state, accept_states);\n",
        "\n",
        "inp_program = list('abcdabcdabcd');\n",
        "\n",
        "print (d.run_with_input_list(inp_program));"
      ],
      "execution_count": null,
      "outputs": [
        {
          "output_type": "stream",
          "text": [
            "False\n"
          ],
          "name": "stdout"
        }
      ]
    },
    {
      "cell_type": "markdown",
      "metadata": {
        "id": "p0qjzdxSDtB_"
      },
      "source": [
        "Função/procedimento léxico\n",
        "----------------------"
      ]
    },
    {
      "cell_type": "code",
      "metadata": {
        "id": "IVPPCrcwDvld"
      },
      "source": [
        "in&"
      ],
      "execution_count": null,
      "outputs": []
    }
  ]
}