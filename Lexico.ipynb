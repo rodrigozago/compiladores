{
  "nbformat": 4,
  "nbformat_minor": 0,
  "metadata": {
    "colab": {
      "name": "Lexico.ipynb",
      "provenance": [],
      "collapsed_sections": [
        "sOwtiPdOC3mm",
        "nuVejW89C-QD"
      ],
      "include_colab_link": true
    },
    "kernelspec": {
      "display_name": "Python 3",
      "language": "python",
      "name": "python3"
    },
    "language_info": {
      "codemirror_mode": {
        "name": "ipython",
        "version": 3
      },
      "file_extension": ".py",
      "mimetype": "text/x-python",
      "name": "python",
      "nbconvert_exporter": "python",
      "pygments_lexer": "ipython3",
      "version": "3.7.1"
    }
  },
  "cells": [
    {
      "cell_type": "markdown",
      "metadata": {
        "id": "view-in-github",
        "colab_type": "text"
      },
      "source": [
        "<a href=\"https://colab.research.google.com/github/rodrigozago/compiladores/blob/master/Lexico.ipynb\" target=\"_parent\"><img src=\"https://colab.research.google.com/assets/colab-badge.svg\" alt=\"Open In Colab\"/></a>"
      ]
    },
    {
      "cell_type": "markdown",
      "metadata": {
        "id": "hh9K9qYJ9t23"
      },
      "source": [
        ""
      ]
    },
    {
      "cell_type": "markdown",
      "metadata": {
        "id": "y2vT3_Y0DbZR"
      },
      "source": [
        "Analisador léxico\n",
        "=================="
      ]
    },
    {
      "cell_type": "markdown",
      "metadata": {
        "id": "sOwtiPdOC3mm"
      },
      "source": [
        "Definição da tabela de simbolos\n",
        "--------------------"
      ]
    },
    {
      "cell_type": "markdown",
      "metadata": {
        "id": "wLc-ORg8omQA"
      },
      "source": [
        "Classe que define a tabela de simbolos.\n",
        "\n",
        "symTable: Estrutura do tipo dict para armazenar os tokens:\n",
        "\n",
        "```{ lexema<string> : token<Token> }```"
      ]
    },
    {
      "cell_type": "code",
      "metadata": {
        "id": "stf4cugLAO69"
      },
      "source": [
        "class SymTable:\n",
        "    def __init__(self):\n",
        "        self.symTable = dict();\n",
        "    def addNewEntry(self, token):\n",
        "        if(token.lexema in self.symTable):\n",
        "            raise Exception(\"O lexema {} já foi adcionado à tabela de simbolos anteriormente\".format(token.lexema))\n",
        "        else:\n",
        "            self.symTable[token.lexema] = token\n",
        "    def getEntry(self, lexema):\n",
        "        if(lexema in self.symTable):\n",
        "            return self.symTable[lexema]\n",
        "        else:\n",
        "            return None"
      ],
      "execution_count": null,
      "outputs": []
    },
    {
      "cell_type": "markdown",
      "metadata": {
        "id": "nuVejW89C-QD"
      },
      "source": [
        "Definição da classe Token\n",
        "--------------------------"
      ]
    },
    {
      "cell_type": "code",
      "metadata": {
        "id": "9532H6Ww13I-"
      },
      "source": [
        "class Token:\n",
        "  def __init__(self, lexema, token, tipo):\n",
        "    self.lexema = lexema\n",
        "    self.token = token\n",
        "    self.tipo = tipo\n",
        "\n",
        "  def __str__(self):\n",
        "    return \"Lexema: {} Token: {} Tipo: {}\".format(self.lexema, self.token, self.tipo)"
      ],
      "execution_count": null,
      "outputs": []
    },
    {
      "cell_type": "markdown",
      "metadata": {
        "id": "hygyYiRGDLif"
      },
      "source": [
        "Adicionando palavras chave da linguagem na tabela de simbolos\n",
        "---------------------------------------"
      ]
    },
    {
      "cell_type": "code",
      "metadata": {
        "id": "aJtF1gCt2UcV"
      },
      "source": [
        "# Creating symbol table\n",
        "table = SymTable()\n",
        "\n",
        "# Add keywords into symbol table\n",
        "try:\n",
        "    table.addNewEntry(Token('inicio', 'inicio', '-'))\n",
        "    table.addNewEntry(Token('varinicio', 'varinicio', '-'))\n",
        "    table.addNewEntry(Token('varfim', 'varfim', '-'))\n",
        "    table.addNewEntry(Token('escreva', 'escreva', '-'))\n",
        "    table.addNewEntry(Token('leia', 'leia', '-'))\n",
        "    table.addNewEntry(Token('se', 'se', '-'))\n",
        "    table.addNewEntry(Token('entao', 'entao', '-'))\n",
        "    table.addNewEntry(Token('fimse', 'fimse', '-'))\n",
        "    table.addNewEntry(Token('fim', 'fim', '-'))\n",
        "    table.addNewEntry(Token('inteiro', 'inteiro', '-'))\n",
        "    table.addNewEntry(Token('lit', 'lit', '-'))\n",
        "    table.addNewEntry(Token('real', 'real', '-'))    \n",
        "except Exception as e:\n",
        "    print(\"erro: {}\".format(e))\n",
        "\n"
      ],
      "execution_count": null,
      "outputs": []
    },
    {
      "cell_type": "code",
      "metadata": {
        "id": "3vi1Dc_uB72u",
        "outputId": "6f8c754c-d0d1-468a-9dd6-3a45fe445268",
        "colab": {
          "base_uri": "https://localhost:8080/",
          "height": 35
        }
      },
      "source": [
        "print(table.getEntry('inicio'))"
      ],
      "execution_count": null,
      "outputs": [
        {
          "output_type": "stream",
          "text": [
            "Lexema: inicio Token: inicio Tipo: -\n"
          ],
          "name": "stdout"
        }
      ]
    },
    {
      "cell_type": "markdown",
      "metadata": {
        "id": "zNsCQ-6iomQK"
      },
      "source": [
        "Definição do autômato finito\n",
        "-----------------------------"
      ]
    },
    {
      "cell_type": "markdown",
      "metadata": {
        "id": "eT6Ud-XkomQL"
      },
      "source": [
        "Definindo função de transição"
      ]
    },
    {
      "cell_type": "code",
      "metadata": {
        "id": "ZhuDqr5VomQL"
      },
      "source": [
        "tf = dict();\n",
        "#NUM\n",
        "tf[(0, 'a')] = 1;"
      ],
      "execution_count": null,
      "outputs": []
    },
    {
      "cell_type": "code",
      "metadata": {
        "id": "4bZOZet-Dqv6"
      },
      "source": [
        "class DFA:\n",
        "    current_state = None;\n",
        "    def __init__(self, states, alphabet, transition_function, start_state, accept_states):\n",
        "        self.states = states;\n",
        "        self.alphabet = alphabet;\n",
        "        self.transition_function = transition_function;\n",
        "        self.start_state = start_state;\n",
        "        self.accept_states = accept_states;\n",
        "        self.current_state = start_state;\n",
        "        return;\n",
        "    \n",
        "    def transition_to_state_with_input(self, input_value):\n",
        "        if ((self.current_state, input_value) not in self.transition_function.keys()):\n",
        "            # if has a '.'\n",
        "            if((self.current_state, '.') in self.transition_function.keys()):\n",
        "                self.current_state = self.transition_function[(self.current_state, '.')];\n",
        "                return;\n",
        "            self.current_state = None;\n",
        "            return;\n",
        "        self.current_state = self.transition_function[(self.current_state, input_value)];\n",
        "        return;\n",
        "    \n",
        "    def in_accept_state(self):\n",
        "        return self.current_state in accept_states;\n",
        "    \n",
        "    def go_to_initial_state(self):\n",
        "        self.current_state = self.start_state;\n",
        "        return;\n",
        "    \n",
        "    def run_with_input_list(self, input_list):\n",
        "        self.go_to_initial_state();\n",
        "        for inp in input_list:\n",
        "            self.transition_to_state_with_input(inp);\n",
        "            continue;\n",
        "        return self.in_accept_state();\n",
        "    pass;\n",
        "\n",
        "\n",
        "\n",
        "states = {0, 1, 2, 3, 4, 5, 6, 7, 8, 9, 10, 11, 12, 13, 14, 15, 16, 17, 18, 19, 20, 21, 22};\n",
        "# TODO - Wire all alphabet\n",
        "alphabet = {'a', 'b', 'c', 'd'};\n",
        "\n",
        "tf = dict();\n",
        "tf[(0, 'a')] = 1;\n",
        "tf[(0, 'b')] = 2;\n",
        "tf[(0, 'c')] = 3;\n",
        "tf[(0, 'd')] = 0;\n",
        "tf[(1, 'a')] = 1;\n",
        "tf[(1, 'b')] = 2;\n",
        "tf[(1, 'c')] = 3;\n",
        "tf[(1, 'd')] = 0;\n",
        "tf[(2, 'a')] = 1;\n",
        "tf[(2, 'b')] = 2;\n",
        "tf[(2, 'c')] = 3;\n",
        "tf[(2, 'd')] = 0;\n",
        "tf[(3, 'a')] = 1;\n",
        "tf[(3, 'b')] = 2;\n",
        "tf[(3, 'c')] = 3;\n",
        "tf[(3, 'd')] = 0;\n",
        "start_state = 0;\n",
        "accept_states = {2, 3};\n",
        "\n",
        "d = DFA(states, alphabet, tf, start_state, accept_states);\n",
        "\n",
        "inp_program = list('abcdabcdabcd');\n",
        "\n",
        "print (d.run_with_input_list(inp_program));"
      ],
      "execution_count": null,
      "outputs": []
    },
    {
      "cell_type": "markdown",
      "metadata": {
        "id": "_u6FDOygDjs9"
      },
      "source": [
        "Definição do Analisador Léxico\n",
        "----------------------------------------"
      ]
    },
    {
      "cell_type": "code",
      "metadata": {
        "id": "7ox1q3FWomQQ"
      },
      "source": [
        "class Scanner:\n",
        "    def __init__():\n",
        "        pass;\n",
        "    pass;"
      ],
      "execution_count": null,
      "outputs": []
    },
    {
      "cell_type": "markdown",
      "metadata": {
        "id": "fMsBtW_3omQS"
      },
      "source": [
        "Experimento com DFA\n",
        "--------------"
      ]
    },
    {
      "cell_type": "code",
      "metadata": {
        "id": "t3j77fnTomQS",
        "outputId": "5df731ce-e1be-46b1-b722-ca20cd64e7bd",
        "colab": {
          "base_uri": "https://localhost:8080/",
          "height": 229
        }
      },
      "source": [
        "class DFA:\n",
        "    current_state = None;\n",
        "    def __init__(self, states, alphabet, transition_function, start_state, accept_states):\n",
        "        self.states = states;\n",
        "        self.alphabet = alphabet;\n",
        "        self.transition_function = transition_function;\n",
        "        self.start_state = start_state;\n",
        "        self.accept_states = accept_states;\n",
        "        self.current_state = start_state;\n",
        "        return;\n",
        "    \n",
        "    def transition_to_state_with_input(self, input_value):\n",
        "        print('debug: encontrei um {}'.format(input_value));\n",
        "        # Verify if is .\n",
        "        if((self.current_state, input_value) not in self.transition_function.keys()):\n",
        "            if((self.current_state, '.') in self.transition_function.keys()):\n",
        "                self.current_state = self.transition_function[(self.current_state, '.')];\n",
        "                print('debug: casei com .');\n",
        "                return;\n",
        "            print('debug: não consegui casar');\n",
        "            self.current_state = None;\n",
        "            return;\n",
        "        self.current_state = self.transition_function[(self.current_state, input_value)];\n",
        "        return;\n",
        "    \n",
        "    def in_accept_state(self):\n",
        "        return self.current_state in accept_states;\n",
        "    \n",
        "    def go_to_initial_state(self):\n",
        "        self.current_state = self.start_state;\n",
        "        return;\n",
        "    \n",
        "    def run_with_input_list(self, input_list):\n",
        "        self.go_to_initial_state();\n",
        "        for inp in input_list:\n",
        "            self.transition_to_state_with_input(inp);\n",
        "            continue;\n",
        "        return self.in_accept_state();\n",
        "    pass;\n",
        "\n",
        "\n",
        "\n",
        "states = {0, 1};\n",
        "alphabet = {L, D, OP, ' ','{','}','\"',';','(',')','.', '>','<','='};\n",
        "L = {'a','b','c','d','e','f','g','h','i','j','k','l','m','n','o','p','q','r','s','t','u','v','w','y','x','z'};\n",
        "D = {'0','1','2','3','4','5','6','7','8','9'};\n",
        "OP = {'+','-','*','/'};\n",
        "\n",
        "tf = dict();\n",
        "tf[(0, \" \")] = 0;\n",
        "tf[(0, \"\\n\")] = 0;\n",
        "tf[(0, \"\\t\")] = 0;\n",
        "tf[(0, D)] = 1;\n",
        "tf[(1, '.')] = 2;\n",
        "tf[(1, 'E')] = 4;\n",
        "tf[(1, 'e')] = 4;\n",
        "tf[(2, D)] = 3;\n",
        "tf[(2, \"QUALQUER COISA\")] = 23;\n",
        "tf[(3, D)] = 3;\n",
        "tf[(3, 'E')] = 4;\n",
        "tf[(3, 'e')] = 4;\n",
        "tf[(4, '+')] = 5;\n",
        "tf[(4, '-')] = 5;\n",
        "tf[(4, D)] = 6;\n",
        "tf[(4, 'QUALQUER COISA')] = 23;\n",
        "tf[(5, D)] = 6;\n",
        "tf[(5, 'QUALQUER COISA')] = 23;\n",
        "tf[(6, D)] = 6;\n",
        "tf[(0, '\"')] = 7;\n",
        "tf[(7, 'QUALQUER COISA')] = 7;\n",
        "tf[(7, '\"')] = 8;\n",
        "tf[(0, L)] = 9;\n",
        "tf[(9, L)] = 9;\n",
        "tf[(9, D)] = 9;\n",
        "tf[(9, ' ')] = 9;\n",
        "tf[(0, '{')] = 10;\n",
        "tf[(10, 'QUALQUER COISA')] = 10;\n",
        "tf[(10, '}')] = 11;\n",
        "tf[(0, EOF)] = 12;\n",
        "tf[(0, '>')] = 13;\n",
        "tf[(13, '=')] = 14;\n",
        "tf[(0, '<')] = 15;\n",
        "tf[(15, '=')] = 14;\n",
        "tf[(15, '>')] = 16;\n",
        "tf[(15, 'QUALQUER COISA')] = 17;\n",
        "tf[(0, '=')] = 18;\n",
        "tf[(0, OP)] = 19;\n",
        "tf[(0, '(')] = 20;\n",
        "tf[(0, ')')] = 21;\n",
        "tf[(0, ';')] = 22;\n",
        "\n",
        "\n",
        "start_state = 0;\n",
        "accept_states = {0};\n",
        "\n",
        "d = DFA(states, alphabet, tf, start_state, accept_states);\n",
        "\n",
        "inp_program = list('aca');\n",
        "\n",
        "print (d.run_with_input_list(inp_program));"
      ],
      "execution_count": 2,
      "outputs": [
        {
          "output_type": "error",
          "ename": "NameError",
          "evalue": "ignored",
          "traceback": [
            "\u001b[0;31m---------------------------------------------------------------------------\u001b[0m",
            "\u001b[0;31mNameError\u001b[0m                                 Traceback (most recent call last)",
            "\u001b[0;32m<ipython-input-2-140dfa1844c7>\u001b[0m in \u001b[0;36m<module>\u001b[0;34m()\u001b[0m\n\u001b[1;32m     42\u001b[0m \u001b[0;34m\u001b[0m\u001b[0m\n\u001b[1;32m     43\u001b[0m \u001b[0mstates\u001b[0m \u001b[0;34m=\u001b[0m \u001b[0;34m{\u001b[0m\u001b[0;36m0\u001b[0m\u001b[0;34m,\u001b[0m \u001b[0;36m1\u001b[0m\u001b[0;34m}\u001b[0m\u001b[0;34m;\u001b[0m\u001b[0;34m\u001b[0m\u001b[0;34m\u001b[0m\u001b[0m\n\u001b[0;32m---> 44\u001b[0;31m \u001b[0malphabet\u001b[0m \u001b[0;34m=\u001b[0m \u001b[0;34m{\u001b[0m\u001b[0mL\u001b[0m\u001b[0;34m,\u001b[0m \u001b[0mD\u001b[0m\u001b[0;34m,\u001b[0m \u001b[0mOP\u001b[0m\u001b[0;34m,\u001b[0m \u001b[0;34m' '\u001b[0m\u001b[0;34m,\u001b[0m\u001b[0;34m'{'\u001b[0m\u001b[0;34m,\u001b[0m\u001b[0;34m'}'\u001b[0m\u001b[0;34m,\u001b[0m\u001b[0;34m'\"'\u001b[0m\u001b[0;34m,\u001b[0m\u001b[0;34m';'\u001b[0m\u001b[0;34m,\u001b[0m\u001b[0;34m'('\u001b[0m\u001b[0;34m,\u001b[0m\u001b[0;34m')'\u001b[0m\u001b[0;34m,\u001b[0m\u001b[0;34m'.'\u001b[0m\u001b[0;34m,\u001b[0m \u001b[0;34m'>'\u001b[0m\u001b[0;34m,\u001b[0m\u001b[0;34m'<'\u001b[0m\u001b[0;34m,\u001b[0m\u001b[0;34m'='\u001b[0m\u001b[0;34m}\u001b[0m\u001b[0;34m;\u001b[0m\u001b[0;34m\u001b[0m\u001b[0;34m\u001b[0m\u001b[0m\n\u001b[0m\u001b[1;32m     45\u001b[0m \u001b[0mL\u001b[0m \u001b[0;34m=\u001b[0m \u001b[0;34m{\u001b[0m\u001b[0;34m'a'\u001b[0m\u001b[0;34m,\u001b[0m\u001b[0;34m'b'\u001b[0m\u001b[0;34m,\u001b[0m\u001b[0;34m'c'\u001b[0m\u001b[0;34m,\u001b[0m\u001b[0;34m'd'\u001b[0m\u001b[0;34m,\u001b[0m\u001b[0;34m'e'\u001b[0m\u001b[0;34m,\u001b[0m\u001b[0;34m'f'\u001b[0m\u001b[0;34m,\u001b[0m\u001b[0;34m'g'\u001b[0m\u001b[0;34m,\u001b[0m\u001b[0;34m'h'\u001b[0m\u001b[0;34m,\u001b[0m\u001b[0;34m'i'\u001b[0m\u001b[0;34m,\u001b[0m\u001b[0;34m'j'\u001b[0m\u001b[0;34m,\u001b[0m\u001b[0;34m'k'\u001b[0m\u001b[0;34m,\u001b[0m\u001b[0;34m'l'\u001b[0m\u001b[0;34m,\u001b[0m\u001b[0;34m'm'\u001b[0m\u001b[0;34m,\u001b[0m\u001b[0;34m'n'\u001b[0m\u001b[0;34m,\u001b[0m\u001b[0;34m'o'\u001b[0m\u001b[0;34m,\u001b[0m\u001b[0;34m'p'\u001b[0m\u001b[0;34m,\u001b[0m\u001b[0;34m'q'\u001b[0m\u001b[0;34m,\u001b[0m\u001b[0;34m'r'\u001b[0m\u001b[0;34m,\u001b[0m\u001b[0;34m's'\u001b[0m\u001b[0;34m,\u001b[0m\u001b[0;34m't'\u001b[0m\u001b[0;34m,\u001b[0m\u001b[0;34m'u'\u001b[0m\u001b[0;34m,\u001b[0m\u001b[0;34m'v'\u001b[0m\u001b[0;34m,\u001b[0m\u001b[0;34m'w'\u001b[0m\u001b[0;34m,\u001b[0m\u001b[0;34m'y'\u001b[0m\u001b[0;34m,\u001b[0m\u001b[0;34m'x'\u001b[0m\u001b[0;34m,\u001b[0m\u001b[0;34m'z'\u001b[0m\u001b[0;34m}\u001b[0m\u001b[0;34m;\u001b[0m\u001b[0;34m\u001b[0m\u001b[0;34m\u001b[0m\u001b[0m\n\u001b[1;32m     46\u001b[0m \u001b[0mD\u001b[0m \u001b[0;34m=\u001b[0m \u001b[0;34m{\u001b[0m\u001b[0;34m'0'\u001b[0m\u001b[0;34m,\u001b[0m\u001b[0;34m'1'\u001b[0m\u001b[0;34m,\u001b[0m\u001b[0;34m'2'\u001b[0m\u001b[0;34m,\u001b[0m\u001b[0;34m'3'\u001b[0m\u001b[0;34m,\u001b[0m\u001b[0;34m'4'\u001b[0m\u001b[0;34m,\u001b[0m\u001b[0;34m'5'\u001b[0m\u001b[0;34m,\u001b[0m\u001b[0;34m'6'\u001b[0m\u001b[0;34m,\u001b[0m\u001b[0;34m'7'\u001b[0m\u001b[0;34m,\u001b[0m\u001b[0;34m'8'\u001b[0m\u001b[0;34m,\u001b[0m\u001b[0;34m'9'\u001b[0m\u001b[0;34m}\u001b[0m\u001b[0;34m;\u001b[0m\u001b[0;34m\u001b[0m\u001b[0;34m\u001b[0m\u001b[0m\n",
            "\u001b[0;31mNameError\u001b[0m: name 'L' is not defined"
          ]
        }
      ]
    },
    {
      "cell_type": "code",
      "metadata": {
        "id": "wcQgRRYoomQU"
      },
      "source": [
        ""
      ],
      "execution_count": null,
      "outputs": []
    }
  ]
}